{
 "cells": [
  {
   "cell_type": "code",
   "execution_count": 5,
   "metadata": {},
   "outputs": [],
   "source": [
    "import networkx as nx\n",
    "from repast4py.network import write_network\n",
    "from network import *"
   ]
  },
  {
   "cell_type": "code",
   "execution_count": 2,
   "metadata": {},
   "outputs": [],
   "source": [
    "num_agents = 10000\n",
    "p = 0.02\n",
    "G1 = nx.erdos_renyi_graph(n=num_agents, p=p)\n",
    "G2 = nx.erdos_renyi_graph(n=num_agents, p=p)\n",
    "path1, path2 = 'networks/experiment_layer1.txt', 'networks/experiment_layer2.txt'\n",
    "write_network(G1, 'rumor_network', path1, 1)\n",
    "write_network(G2, 'rumor_network', path2, 1)"
   ]
  },
  {
   "cell_type": "code",
   "execution_count": 6,
   "metadata": {},
   "outputs": [
    {
     "name": "stdout",
     "output_type": "stream",
     "text": [
      "Updated network data has been written to: networks/experiment_layer1.txt_multi\n"
     ]
    }
   ],
   "source": [
    "parse_and_write_network_files([path1, path2])"
   ]
  },
  {
   "cell_type": "code",
   "execution_count": 7,
   "metadata": {},
   "outputs": [
    {
     "name": "stdout",
     "output_type": "stream",
     "text": [
      "Updated network data has been written to: networks/experiment1_layer1.txt_multi\n"
     ]
    }
   ],
   "source": [
    "num_agents = 50\n",
    "p = 0.1\n",
    "G1 = nx.erdos_renyi_graph(n=num_agents, p=p)\n",
    "G2 = nx.erdos_renyi_graph(n=num_agents, p=p)\n",
    "path1, path2 = 'networks/experiment1_layer1.txt', 'networks/experiment1_layer2.txt'\n",
    "write_network(G1, 'rumor_network', path1, 1)\n",
    "write_network(G2, 'rumor_network', path2, 1)\n",
    "parse_and_write_network_files([path1, path2])"
   ]
  },
  {
   "cell_type": "code",
   "execution_count": 13,
   "metadata": {},
   "outputs": [
    {
     "name": "stdout",
     "output_type": "stream",
     "text": [
      "Agent 0: Layer1: 5, Layer2: 6, Combine: 11, Non-overlap: 11\n",
      "\n",
      "Agent 1: Layer1: 9, Layer2: 7, Combine: 16, Non-overlap: 14\n",
      "\n",
      "Agent 2: Layer1: 4, Layer2: 3, Combine: 7, Non-overlap: 7\n",
      "\n",
      "Agent 3: Layer1: 4, Layer2: 7, Combine: 11, Non-overlap: 10\n",
      "\n",
      "Agent 4: Layer1: 3, Layer2: 3, Combine: 6, Non-overlap: 6\n",
      "\n",
      "Agent 5: Layer1: 3, Layer2: 4, Combine: 7, Non-overlap: 7\n",
      "\n",
      "Agent 6: Layer1: 3, Layer2: 6, Combine: 9, Non-overlap: 9\n",
      "\n",
      "Agent 7: Layer1: 8, Layer2: 6, Combine: 14, Non-overlap: 14\n",
      "\n",
      "Agent 8: Layer1: 2, Layer2: 5, Combine: 7, Non-overlap: 7\n",
      "\n",
      "Agent 9: Layer1: 3, Layer2: 5, Combine: 8, Non-overlap: 8\n",
      "\n",
      "Agent 10: Layer1: 5, Layer2: 5, Combine: 10, Non-overlap: 10\n",
      "\n",
      "Agent 11: Layer1: 3, Layer2: 4, Combine: 7, Non-overlap: 6\n",
      "\n",
      "Agent 12: Layer1: 6, Layer2: 6, Combine: 12, Non-overlap: 10\n",
      "\n",
      "Agent 13: Layer1: 5, Layer2: 9, Combine: 14, Non-overlap: 13\n",
      "\n",
      "Agent 14: Layer1: 4, Layer2: 6, Combine: 10, Non-overlap: 10\n",
      "\n",
      "Agent 15: Layer1: 3, Layer2: 8, Combine: 11, Non-overlap: 11\n",
      "\n",
      "Agent 16: Layer1: 5, Layer2: 4, Combine: 9, Non-overlap: 9\n",
      "\n",
      "Agent 17: Layer1: 5, Layer2: 2, Combine: 7, Non-overlap: 6\n",
      "\n",
      "Agent 18: Layer1: 4, Layer2: 6, Combine: 10, Non-overlap: 10\n",
      "\n",
      "Agent 19: Layer1: 0, Layer2: 5, Combine: 5, Non-overlap: 5\n",
      "\n",
      "Agent 20: Layer1: 5, Layer2: 5, Combine: 10, Non-overlap: 9\n",
      "\n",
      "Agent 21: Layer1: 4, Layer2: 4, Combine: 8, Non-overlap: 8\n",
      "\n",
      "Agent 22: Layer1: 8, Layer2: 4, Combine: 12, Non-overlap: 10\n",
      "\n",
      "Agent 23: Layer1: 7, Layer2: 7, Combine: 14, Non-overlap: 12\n",
      "\n",
      "Agent 24: Layer1: 4, Layer2: 2, Combine: 6, Non-overlap: 6\n",
      "\n",
      "Agent 25: Layer1: 3, Layer2: 6, Combine: 9, Non-overlap: 9\n",
      "\n",
      "Agent 26: Layer1: 7, Layer2: 6, Combine: 13, Non-overlap: 11\n",
      "\n",
      "Agent 27: Layer1: 3, Layer2: 7, Combine: 10, Non-overlap: 9\n",
      "\n",
      "Agent 28: Layer1: 1, Layer2: 4, Combine: 5, Non-overlap: 5\n",
      "\n",
      "Agent 29: Layer1: 3, Layer2: 4, Combine: 7, Non-overlap: 7\n",
      "\n",
      "Agent 30: Layer1: 5, Layer2: 4, Combine: 9, Non-overlap: 8\n",
      "\n",
      "Agent 31: Layer1: 4, Layer2: 9, Combine: 13, Non-overlap: 12\n",
      "\n",
      "Agent 32: Layer1: 7, Layer2: 2, Combine: 9, Non-overlap: 9\n",
      "\n",
      "Agent 33: Layer1: 6, Layer2: 6, Combine: 12, Non-overlap: 11\n",
      "\n",
      "Agent 34: Layer1: 3, Layer2: 4, Combine: 7, Non-overlap: 7\n",
      "\n",
      "Agent 35: Layer1: 5, Layer2: 9, Combine: 14, Non-overlap: 12\n",
      "\n",
      "Agent 36: Layer1: 3, Layer2: 7, Combine: 10, Non-overlap: 9\n",
      "\n",
      "Agent 37: Layer1: 4, Layer2: 3, Combine: 7, Non-overlap: 7\n",
      "\n",
      "Agent 38: Layer1: 4, Layer2: 3, Combine: 7, Non-overlap: 7\n",
      "\n",
      "Agent 39: Layer1: 5, Layer2: 3, Combine: 8, Non-overlap: 8\n",
      "\n",
      "Agent 40: Layer1: 6, Layer2: 5, Combine: 11, Non-overlap: 9\n",
      "\n",
      "Agent 41: Layer1: 8, Layer2: 7, Combine: 15, Non-overlap: 14\n",
      "\n",
      "Agent 42: Layer1: 6, Layer2: 6, Combine: 12, Non-overlap: 10\n",
      "\n",
      "Agent 43: Layer1: 5, Layer2: 4, Combine: 9, Non-overlap: 9\n",
      "\n",
      "Agent 44: Layer1: 5, Layer2: 9, Combine: 14, Non-overlap: 13\n",
      "\n",
      "Agent 45: Layer1: 3, Layer2: 3, Combine: 6, Non-overlap: 6\n",
      "\n",
      "Agent 46: Layer1: 2, Layer2: 11, Combine: 13, Non-overlap: 12\n",
      "\n",
      "Agent 47: Layer1: 3, Layer2: 4, Combine: 7, Non-overlap: 7\n",
      "\n",
      "Agent 48: Layer1: 5, Layer2: 4, Combine: 9, Non-overlap: 8\n",
      "\n",
      "Agent 49: Layer1: 4, Layer2: 3, Combine: 7, Non-overlap: 7\n",
      "\n"
     ]
    }
   ],
   "source": [
    "from network import  *\n",
    "edges = parse_to_dictionaries(['networks/experiment1_layer1.txt', 'networks/experiment1_layer2.txt']) \n",
    "for number in range(50):\n",
    "    layer1 = edges[number][0]\n",
    "    layer2 = edges[number][1]\n",
    "    combine = set(layer1.keys()).union(set(layer2.keys()))\n",
    "    print(f\"Agent {number}: Layer1: {len(layer1.keys())}, Layer2: {len(layer2.keys())}, Combine: {len(layer1.keys()) + len(layer2.keys())}, Non-overlap: {len(combine)}\\n\")\n",
    "    \n",
    "    "
   ]
  },
  {
   "cell_type": "code",
   "execution_count": null,
   "metadata": {},
   "outputs": [],
   "source": []
  }
 ],
 "metadata": {
  "kernelspec": {
   "display_name": ".venv",
   "language": "python",
   "name": "python3"
  },
  "language_info": {
   "codemirror_mode": {
    "name": "ipython",
    "version": 3
   },
   "file_extension": ".py",
   "mimetype": "text/x-python",
   "name": "python",
   "nbconvert_exporter": "python",
   "pygments_lexer": "ipython3",
   "version": "3.9.6"
  }
 },
 "nbformat": 4,
 "nbformat_minor": 2
}
