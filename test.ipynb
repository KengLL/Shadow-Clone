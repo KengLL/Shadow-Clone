{
 "cells": [
  {
   "cell_type": "code",
   "execution_count": 169,
   "metadata": {},
   "outputs": [],
   "source": [
    "import ast\n",
    "from functools import partial\n",
    "import networkx as nx\n",
    "import numpy as np\n",
    "from typing import Dict\n",
    "import matplotlib.pyplot as plt\n",
    "from dataclasses import dataclass\n",
    "from mpi4py import MPI\n",
    "from repast4py import context as ctx\n",
    "from repast4py import core, random, schedule, logging, parameters\n",
    "from repast4py.network import write_network, read_network"
   ]
  },
  {
   "cell_type": "code",
   "execution_count": 170,
   "metadata": {},
   "outputs": [],
   "source": [
    "model = None\n",
    "\n",
    "\n",
    "class RumorAgent(core.Agent):\n",
    "\n",
    "    def __init__(self, nid: int, agent_type: int, rank: int, received_rumor=False, shadow=None):\n",
    "        super().__init__(nid, agent_type, rank)\n",
    "        self.received_rumor = received_rumor\n",
    "        self.shadow = shadow or {}\n",
    "\n",
    "    \n",
    "def create_rumor_agent(nid, agent_type, rank, **kwargs):\n",
    "    shadow = kwargs.get('shadow', {})\n",
    "    return RumorAgent(nid, agent_type, rank, received_rumor=None, shadow=shadow)\n",
    "\n",
    "def restore_agent(agent_data):\n",
    "    uid = agent_data[0]\n",
    "    received_rumor = agent_data[1]\n",
    "    shadow = agent_data[2] if len(agent_data) > 2 else {}  # Handle cases where shadow might not be saved\n",
    "    return RumorAgent(uid[0], uid[1], uid[2], received_rumor, shadow)"
   ]
  },
  {
   "cell_type": "code",
   "execution_count": 171,
   "metadata": {},
   "outputs": [],
   "source": [
    "class Model:\n",
    "    def __init__(self, comm, params):\n",
    "        self.runner = schedule.init_schedule_runner(comm)\n",
    "        self.runner.schedule_stop(params['stop.at'])\n",
    "\n",
    "        fpath = params['network_file']\n",
    "        self.context = ctx.SharedContext(comm)\n",
    "        read_network(fpath, self.context, create_rumor_agent, restore_agent)\n",
    "        self.net = self.context.get_projection('rumor_network')\n",
    "\n",
    "\n",
    "\n",
    "\n",
    "\n",
    "    \n",
    "    def start(self):\n",
    "        self.runner.execute()"
   ]
  },
  {
   "cell_type": "code",
   "execution_count": 172,
   "metadata": {},
   "outputs": [
    {
     "ename": "ValueError",
     "evalue": "Error reading graph description file on line 2: \"0 0 2 {\"shadow\":\"{\\\\\"key\\\\\":\\\\\"value\\\\\"}\"}\". Expected node description with format: \"node_id agent_type rank\" following by an optional json agent attribute dictionary",
     "output_type": "error",
     "traceback": [
      "\u001b[0;31m---------------------------------------------------------------------------\u001b[0m",
      "\u001b[0;31mValueError\u001b[0m                                Traceback (most recent call last)",
      "File \u001b[0;32m~/Documents/GitHub/Shadow-Clone/.venv/lib/python3.9/site-packages/repast4py/network.py:845\u001b[0m, in \u001b[0;36m_parse_node\u001b[0;34m(line, line_num, graph_data, ctx, create_agent)\u001b[0m\n\u001b[1;32m    844\u001b[0m \u001b[38;5;28;01mif\u001b[39;00m n_vals \u001b[38;5;241m<\u001b[39m \u001b[38;5;241m3\u001b[39m \u001b[38;5;129;01mor\u001b[39;00m n_vals \u001b[38;5;241m>\u001b[39m \u001b[38;5;241m4\u001b[39m:\n\u001b[0;32m--> 845\u001b[0m     \u001b[38;5;28;01mraise\u001b[39;00m \u001b[38;5;167;01mValueError\u001b[39;00m\n\u001b[1;32m    846\u001b[0m n_id \u001b[38;5;241m=\u001b[39m \u001b[38;5;28mint\u001b[39m(vals[\u001b[38;5;241m0\u001b[39m])\n",
      "\u001b[0;31mValueError\u001b[0m: ",
      "\nDuring handling of the above exception, another exception occurred:\n",
      "\u001b[0;31mValueError\u001b[0m                                Traceback (most recent call last)",
      "Cell \u001b[0;32mIn[172], line 15\u001b[0m\n\u001b[1;32m      7\u001b[0m \u001b[38;5;28;01mif\u001b[39;00m \u001b[38;5;18m__name__\u001b[39m \u001b[38;5;241m==\u001b[39m \u001b[38;5;124m\"\u001b[39m\u001b[38;5;124m__main__\u001b[39m\u001b[38;5;124m\"\u001b[39m:\n\u001b[1;32m      8\u001b[0m     params \u001b[38;5;241m=\u001b[39m {\n\u001b[1;32m      9\u001b[0m         \u001b[38;5;124m'\u001b[39m\u001b[38;5;124mnetwork_file\u001b[39m\u001b[38;5;124m'\u001b[39m: \u001b[38;5;124m'\u001b[39m\u001b[38;5;124mlayer1.txt\u001b[39m\u001b[38;5;124m'\u001b[39m,\n\u001b[1;32m     10\u001b[0m         \u001b[38;5;124m'\u001b[39m\u001b[38;5;124minitial_rumor_count\u001b[39m\u001b[38;5;124m'\u001b[39m: \u001b[38;5;241m5\u001b[39m,\n\u001b[0;32m   (...)\u001b[0m\n\u001b[1;32m     13\u001b[0m         \u001b[38;5;124m'\u001b[39m\u001b[38;5;124mcounts_file\u001b[39m\u001b[38;5;124m'\u001b[39m: \u001b[38;5;124m'\u001b[39m\u001b[38;5;124moutput/rumor_counts.csv\u001b[39m\u001b[38;5;124m'\u001b[39m\n\u001b[1;32m     14\u001b[0m     }\n\u001b[0;32m---> 15\u001b[0m     \u001b[43mrun\u001b[49m\u001b[43m(\u001b[49m\u001b[43mparams\u001b[49m\u001b[43m)\u001b[49m\n",
      "Cell \u001b[0;32mIn[172], line 3\u001b[0m, in \u001b[0;36mrun\u001b[0;34m(params)\u001b[0m\n\u001b[1;32m      1\u001b[0m \u001b[38;5;28;01mdef\u001b[39;00m\u001b[38;5;250m \u001b[39m\u001b[38;5;21mrun\u001b[39m(params: Dict):\n\u001b[1;32m      2\u001b[0m     \u001b[38;5;28;01mglobal\u001b[39;00m model\n\u001b[0;32m----> 3\u001b[0m     model \u001b[38;5;241m=\u001b[39m \u001b[43mModel\u001b[49m\u001b[43m(\u001b[49m\u001b[43mMPI\u001b[49m\u001b[38;5;241;43m.\u001b[39;49m\u001b[43mCOMM_WORLD\u001b[49m\u001b[43m,\u001b[49m\u001b[43m \u001b[49m\u001b[43mparams\u001b[49m\u001b[43m)\u001b[49m\n\u001b[1;32m      4\u001b[0m     model\u001b[38;5;241m.\u001b[39mstart()\n",
      "Cell \u001b[0;32mIn[171], line 8\u001b[0m, in \u001b[0;36mModel.__init__\u001b[0;34m(self, comm, params)\u001b[0m\n\u001b[1;32m      6\u001b[0m fpath \u001b[38;5;241m=\u001b[39m params[\u001b[38;5;124m'\u001b[39m\u001b[38;5;124mnetwork_file\u001b[39m\u001b[38;5;124m'\u001b[39m]\n\u001b[1;32m      7\u001b[0m \u001b[38;5;28mself\u001b[39m\u001b[38;5;241m.\u001b[39mcontext \u001b[38;5;241m=\u001b[39m ctx\u001b[38;5;241m.\u001b[39mSharedContext(comm)\n\u001b[0;32m----> 8\u001b[0m \u001b[43mread_network\u001b[49m\u001b[43m(\u001b[49m\u001b[43mfpath\u001b[49m\u001b[43m,\u001b[49m\u001b[43m \u001b[49m\u001b[38;5;28;43mself\u001b[39;49m\u001b[38;5;241;43m.\u001b[39;49m\u001b[43mcontext\u001b[49m\u001b[43m,\u001b[49m\u001b[43m \u001b[49m\u001b[43mcreate_rumor_agent\u001b[49m\u001b[43m,\u001b[49m\u001b[43m \u001b[49m\u001b[43mrestore_agent\u001b[49m\u001b[43m)\u001b[49m\n\u001b[1;32m      9\u001b[0m \u001b[38;5;28mself\u001b[39m\u001b[38;5;241m.\u001b[39mnet \u001b[38;5;241m=\u001b[39m \u001b[38;5;28mself\u001b[39m\u001b[38;5;241m.\u001b[39mcontext\u001b[38;5;241m.\u001b[39mget_projection(\u001b[38;5;124m'\u001b[39m\u001b[38;5;124mrumor_network\u001b[39m\u001b[38;5;124m'\u001b[39m)\n",
      "File \u001b[0;32m~/Documents/GitHub/Shadow-Clone/.venv/lib/python3.9/site-packages/repast4py/network.py:1001\u001b[0m, in \u001b[0;36mread_network\u001b[0;34m(fpath, ctx, create_agent, restore_agent)\u001b[0m\n\u001b[1;32m    998\u001b[0m         parse_nodes \u001b[38;5;241m=\u001b[39m \u001b[38;5;28;01mFalse\u001b[39;00m\n\u001b[1;32m   1000\u001b[0m     \u001b[38;5;28;01melse\u001b[39;00m:\n\u001b[0;32m-> 1001\u001b[0m         \u001b[43m_parse_node\u001b[49m\u001b[43m(\u001b[49m\u001b[43mline\u001b[49m\u001b[43m,\u001b[49m\u001b[43m \u001b[49m\u001b[43mi\u001b[49m\u001b[43m \u001b[49m\u001b[38;5;241;43m+\u001b[39;49m\u001b[43m \u001b[49m\u001b[38;5;241;43m2\u001b[39;49m\u001b[43m,\u001b[49m\u001b[43m \u001b[49m\u001b[43mgraph_data\u001b[49m\u001b[43m,\u001b[49m\u001b[43m \u001b[49m\u001b[43mctx\u001b[49m\u001b[43m,\u001b[49m\u001b[43m \u001b[49m\u001b[43mcreate_agent\u001b[49m\u001b[43m)\u001b[49m\n\u001b[1;32m   1002\u001b[0m \u001b[38;5;28;01melse\u001b[39;00m:\n\u001b[1;32m   1003\u001b[0m     _parse_edge(line, i \u001b[38;5;241m+\u001b[39m \u001b[38;5;241m2\u001b[39m, g, graph_data)\n",
      "File \u001b[0;32m~/Documents/GitHub/Shadow-Clone/.venv/lib/python3.9/site-packages/repast4py/network.py:862\u001b[0m, in \u001b[0;36m_parse_node\u001b[0;34m(line, line_num, graph_data, ctx, create_agent)\u001b[0m\n\u001b[1;32m    859\u001b[0m         graph_data\u001b[38;5;241m.\u001b[39mremote_agents[n_id] \u001b[38;5;241m=\u001b[39m (n_id, agent_type, rank)\n\u001b[1;32m    861\u001b[0m \u001b[38;5;28;01mexcept\u001b[39;00m \u001b[38;5;167;01mException\u001b[39;00m:\n\u001b[0;32m--> 862\u001b[0m     \u001b[38;5;28;01mraise\u001b[39;00m \u001b[38;5;167;01mValueError\u001b[39;00m(\u001b[38;5;124mf\u001b[39m\u001b[38;5;124m'\u001b[39m\u001b[38;5;124mError reading graph description file on line \u001b[39m\u001b[38;5;132;01m{\u001b[39;00mline_num\u001b[38;5;132;01m}\u001b[39;00m\u001b[38;5;124m: \u001b[39m\u001b[38;5;124m\"\u001b[39m\u001b[38;5;132;01m{\u001b[39;00mline\u001b[38;5;132;01m}\u001b[39;00m\u001b[38;5;124m\"\u001b[39m\u001b[38;5;124m. Expected node description with format: \u001b[39m\u001b[38;5;124m'\u001b[39m\n\u001b[1;32m    863\u001b[0m                      \u001b[38;5;124m'\u001b[39m\u001b[38;5;124m\"\u001b[39m\u001b[38;5;124mnode_id agent_type rank\u001b[39m\u001b[38;5;124m\"\u001b[39m\u001b[38;5;124m following by an optional json agent attribute dictionary\u001b[39m\u001b[38;5;124m'\u001b[39m)\n",
      "\u001b[0;31mValueError\u001b[0m: Error reading graph description file on line 2: \"0 0 2 {\"shadow\":\"{\\\\\"key\\\\\":\\\\\"value\\\\\"}\"}\". Expected node description with format: \"node_id agent_type rank\" following by an optional json agent attribute dictionary"
     ]
    }
   ],
   "source": [
    "def run(params: Dict):\n",
    "    global model\n",
    "    model = Model(MPI.COMM_WORLD, params)\n",
    "    model.start()\n",
    "\n",
    "\n",
    "if __name__ == \"__main__\":\n",
    "    params = {\n",
    "        'network_file': 'layer1.txt',\n",
    "        'initial_rumor_count': 5,\n",
    "        'stop.at': 5,\n",
    "        'rumor_probability': 0.1,\n",
    "        'counts_file': 'output/rumor_counts.csv'\n",
    "    }\n",
    "    run(params)"
   ]
  }
 ],
 "metadata": {
  "kernelspec": {
   "display_name": ".venv",
   "language": "python",
   "name": "python3"
  },
  "language_info": {
   "codemirror_mode": {
    "name": "ipython",
    "version": 3
   },
   "file_extension": ".py",
   "mimetype": "text/x-python",
   "name": "python",
   "nbconvert_exporter": "python",
   "pygments_lexer": "ipython3",
   "version": "3.9.6"
  }
 },
 "nbformat": 4,
 "nbformat_minor": 2
}
