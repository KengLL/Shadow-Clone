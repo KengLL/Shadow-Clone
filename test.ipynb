{
 "cells": [
  {
   "cell_type": "code",
   "execution_count": 269,
   "metadata": {},
   "outputs": [],
   "source": [
    "import ast\n",
    "from functools import partial\n",
    "import networkx as nx\n",
    "import numpy as np\n",
    "from typing import Dict\n",
    "import matplotlib.pyplot as plt\n",
    "from dataclasses import dataclass\n",
    "from mpi4py import MPI\n",
    "from repast4py import context as ctx\n",
    "from repast4py import core, random, schedule, logging, parameters\n",
    "from repast4py.network import write_network, read_network"
   ]
  },
  {
   "cell_type": "code",
   "execution_count": 270,
   "metadata": {},
   "outputs": [],
   "source": [
    "import json\n",
    "import zlib\n",
    "import base64\n",
    "from collections import defaultdict\n",
    "model = None\n",
    "\n",
    "\n",
    "class RumorAgent(core.Agent):\n",
    "\n",
    "    def __init__(self, nid: int, agent_type: int, rank: int, received_rumor=False, shadow=None):\n",
    "        super().__init__(nid, agent_type, rank)\n",
    "        self.received_rumor = received_rumor\n",
    "        self.shadow = shadow or {}\n",
    "\n",
    "    \n",
    "def create_rumor_agent(nid, agent_type, rank, **kwargs):\n",
    "    shadow_data = {}\n",
    "    if 'data' in kwargs:  # New compressed format\n",
    "        encoded_str = kwargs['data']\n",
    "        compressed = base64.b64decode(encoded_str)\n",
    "        json_str = zlib.decompress(compressed).decode('utf-8')\n",
    "        raw_shadow = json.loads(json_str)['shadow']\n",
    "        # Convert string keys to tuples and integer layer IDs\n",
    "        shadow_data = {\n",
    "            int(layer): {\n",
    "                ast.literal_eval(conn_key): weight \n",
    "                for conn_key, weight in conns.items()\n",
    "            }\n",
    "            for layer, conns in raw_shadow.items()\n",
    "        }\n",
    "    return RumorAgent(nid, agent_type, rank, received_rumor=None, shadow=shadow_data)\n",
    "\n",
    "def restore_agent(agent_data):\n",
    "    uid = agent_data[0]\n",
    "    received_rumor = agent_data[1]\n",
    "    shadow = agent_data[2] if len(agent_data) > 2 else {}  # Handle cases where shadow might not be saved\n",
    "    return RumorAgent(uid[0], uid[1], uid[2], received_rumor, shadow)"
   ]
  },
  {
   "cell_type": "code",
   "execution_count": 271,
   "metadata": {},
   "outputs": [],
   "source": [
    "class Model:\n",
    "    def __init__(self, comm, params):\n",
    "        self.runner = schedule.init_schedule_runner(comm)\n",
    "        self.runner.schedule_stop(params['stop.at'])\n",
    "\n",
    "        fpath = params['network_file']\n",
    "        self.context = ctx.SharedContext(comm)\n",
    "        read_network(fpath, self.context, create_rumor_agent, restore_agent)\n",
    "        self.net = self.context.get_projection('rumor_network')\n",
    "        for agent in self.context.agents():\n",
    "            print(agent.uid, agent.shadow)\n",
    "    def start(self):\n",
    "        self.runner.execute()"
   ]
  },
  {
   "cell_type": "code",
   "execution_count": null,
   "metadata": {},
   "outputs": [
    {
     "name": "stdout",
     "output_type": "stream",
     "text": [
      "(0, 0, 2) {0: {}, 1: {(2, 0, 1): 1.0}}\n",
      "(1, 0, 1) {0: {(11, 0, 2): 1.0}, 1: {}}\n",
      "(2, 0, 1) {0: {(13, 0, 2): 1.0}, 1: {(0, 0, 2): 1.0}}\n",
      "(3, 0, 1) {0: {}, 1: {}}\n",
      "(4, 0, 2) {0: {}, 1: {}}\n",
      "(5, 0, 1) {0: {(12, 0, 2): 1.0}, 1: {}}\n",
      "(6, 0, 1) {0: {(16, 0, 0): 1.0}, 1: {(12, 0, 2): 1.0, (15, 0, 1): 1.0}}\n",
      "(7, 0, 0) {0: {(11, 0, 2): 1.0}, 1: {(17, 0, 0): 1.0}}\n",
      "(8, 0, 0) {0: {}, 1: {}}\n",
      "(9, 0, 1) {0: {(13, 0, 2): 1.0}, 1: {}}\n",
      "(10, 0, 0) {0: {(13, 0, 2): 1.0}, 1: {(19, 0, 0): 1.0}}\n",
      "(11, 0, 2) {0: {(1, 0, 1): 1.0, (7, 0, 0): 1.0, (14, 0, 0): 1.0, (18, 0, 2): 1.0}, 1: {}}\n",
      "(12, 0, 2) {0: {(5, 0, 1): 1.0}, 1: {(6, 0, 1): 1.0}}\n",
      "(13, 0, 2) {0: {(2, 0, 1): 1.0, (9, 0, 1): 1.0, (10, 0, 0): 1.0}, 1: {(15, 0, 1): 1.0}}\n",
      "(14, 0, 0) {0: {(11, 0, 2): 1.0}, 1: {}}\n",
      "(15, 0, 1) {0: {}, 1: {(6, 0, 1): 1.0, (13, 0, 2): 1.0}}\n",
      "(16, 0, 0) {0: {(6, 0, 1): 1.0}, 1: {}}\n",
      "(17, 0, 0) {0: {}, 1: {(7, 0, 0): 1.0}}\n",
      "(18, 0, 2) {0: {(11, 0, 2): 1.0}, 1: {}}\n",
      "(19, 0, 0) {0: {}, 1: {(10, 0, 0): 1.0}}\n"
     ]
    }
   ],
   "source": [
    "def run(params: Dict):\n",
    "    global model\n",
    "    model = Model(MPI.COMM_WORLD, params)\n",
    "    model.start()\n",
    "\n",
    "\n",
    "if __name__ == \"__main__\":\n",
    "    params = {\n",
    "        'network_file': 'layer1.txt',\n",
    "        'initial_rumor_count': 5,\n",
    "        'stop.at': 5,\n",
    "        'rumor_probability': 0.1,\n",
    "        'counts_file': 'output/rumor_counts.csv'\n",
    "    }\n",
    "    run(params)"
   ]
  }
 ],
 "metadata": {
  "kernelspec": {
   "display_name": ".venv",
   "language": "python",
   "name": "python3"
  },
  "language_info": {
   "codemirror_mode": {
    "name": "ipython",
    "version": 3
   },
   "file_extension": ".py",
   "mimetype": "text/x-python",
   "name": "python",
   "nbconvert_exporter": "python",
   "pygments_lexer": "ipython3",
   "version": "3.9.6"
  }
 },
 "nbformat": 4,
 "nbformat_minor": 2
}
